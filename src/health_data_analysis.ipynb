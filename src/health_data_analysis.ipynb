{
 "cells": [
  {
   "cell_type": "code",
   "execution_count": 1,
   "metadata": {},
   "outputs": [],
   "source": [
    "import pandas as pd\n",
    "df = pd.read_csv('../data/data.csv')\n",
    "df.dropna(axis = 1, how = 'all', inplace = True);"
   ]
  },
  {
   "cell_type": "code",
   "execution_count": 2,
   "metadata": {},
   "outputs": [],
   "source": [
    "years = ['1960', '1961', '1962', '1963', '1964', '1965', '1966', '1967', '1968',\n",
    "       '1969', '1970', '1971', '1972', '1973', '1974', '1975', '1976', '1977',\n",
    "       '1978', '1979', '1980', '1981', '1982', '1983', '1984', '1985', '1986',\n",
    "       '1987', '1988', '1989', '1990', '1991', '1992', '1993', '1994', '1995',\n",
    "       '1996', '1997', '1998', '1999', '2000', '2001', '2002', '2003', '2004',\n",
    "       '2005', '2006', '2007', '2008', '2009', '2010', '2011', '2012', '2013',\n",
    "       '2014', '2015']"
   ]
  },
  {
   "cell_type": "code",
   "execution_count": 3,
   "metadata": {},
   "outputs": [
    {
     "data": {
      "text/plain": [
       "(35007, 60)"
      ]
     },
     "execution_count": 3,
     "metadata": {},
     "output_type": "execute_result"
    }
   ],
   "source": [
    "# Drop all rows where all 55 year columns are null\n",
    "df = df.dropna(axis=0, thresh=55, subset=years)\n",
    "df.shape"
   ]
  },
  {
   "cell_type": "code",
   "execution_count": 4,
   "metadata": {},
   "outputs": [],
   "source": [
    "df_france = df[df['Country Name'].str.contains('France')]\n",
    "df_japan = df[df['Country Name'].str.contains(\"Japan\")]\n",
    "df_canada = df[df['Country Name'].str.contains(\"Canada\")]\n",
    "df_cyprus = df[df['Country Name'].str.contains(\"Cyprus\")]\n",
    "\n",
    "df_countries = pd.concat([df_canada, df_cyprus, df_france, df_japan])"
   ]
  },
  {
   "cell_type": "code",
   "execution_count": 8,
   "metadata": {},
   "outputs": [
    {
     "data": {
      "text/plain": [
       "array(['Adolescent fertility rate (births per 1,000 women ages 15-19)',\n",
       "       'Age dependency ratio, old', 'Age dependency ratio, young',\n",
       "       'Birth rate, crude (per 1,000 people)',\n",
       "       'Death rate, crude (per 1,000 people)',\n",
       "       'Fertility rate, total (births per woman)',\n",
       "       'Life expectancy at birth, female (years)',\n",
       "       'Life expectancy at birth, male (years)',\n",
       "       'Life expectancy at birth, total (years)',\n",
       "       'Mortality rate, infant (per 1,000 live births)',\n",
       "       'Mortality rate, under-5 (per 1,000)', 'Number of infant deaths',\n",
       "       'Number of under-five deaths',\n",
       "       'Survival to age 65, female (% of cohort)',\n",
       "       'Survival to age 65, male (% of cohort)',\n",
       "       'Mortality rate, adult, female (per 1,000 female adults)',\n",
       "       'Mortality rate, adult, male (per 1,000 male adults)'],\n",
       "      dtype=object)"
      ]
     },
     "execution_count": 8,
     "metadata": {},
     "output_type": "execute_result"
    }
   ],
   "source": [
    "filter_list = ['population']\n",
    "non_pop_df = df_countries[~df_countries['Indicator Name'].str.lower().str.contains('|'.join(filter_list))]\n",
    "non_pop_df['Indicator Name'].unique()"
   ]
  },
  {
   "cell_type": "code",
   "execution_count": null,
   "metadata": {},
   "outputs": [],
   "source": []
  }
 ],
 "metadata": {
  "kernelspec": {
   "display_name": "base",
   "language": "python",
   "name": "python3"
  },
  "language_info": {
   "codemirror_mode": {
    "name": "ipython",
    "version": 3
   },
   "file_extension": ".py",
   "mimetype": "text/x-python",
   "name": "python",
   "nbconvert_exporter": "python",
   "pygments_lexer": "ipython3",
   "version": "3.11.7"
  }
 },
 "nbformat": 4,
 "nbformat_minor": 2
}
