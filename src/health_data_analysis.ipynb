{
 "cells": [
  {
   "cell_type": "code",
   "execution_count": 1,
   "metadata": {},
   "outputs": [],
   "source": [
    "import pandas as pd\n",
    "df = pd.read_csv('../data/data.csv')\n",
    "df.dropna(axis = 1, how = 'all', inplace = True);"
   ]
  },
  {
   "cell_type": "code",
   "execution_count": 2,
   "metadata": {},
   "outputs": [],
   "source": [
    "years = ['1960', '1961', '1962', '1963', '1964', '1965', '1966', '1967', '1968',\n",
    "       '1969', '1970', '1971', '1972', '1973', '1974', '1975', '1976', '1977',\n",
    "       '1978', '1979', '1980', '1981', '1982', '1983', '1984', '1985', '1986',\n",
    "       '1987', '1988', '1989', '1990', '1991', '1992', '1993', '1994', '1995',\n",
    "       '1996', '1997', '1998', '1999', '2000', '2001', '2002', '2003', '2004',\n",
    "       '2005', '2006', '2007', '2008', '2009', '2010', '2011', '2012', '2013',\n",
    "       '2014', '2015']"
   ]
  },
  {
   "cell_type": "code",
   "execution_count": 3,
   "metadata": {},
   "outputs": [
    {
     "data": {
      "text/plain": [
       "(35007, 60)"
      ]
     },
     "execution_count": 3,
     "metadata": {},
     "output_type": "execute_result"
    }
   ],
   "source": [
    "# Drop all rows where all 55 year columns are null\n",
    "df = df.dropna(axis=0, thresh=55, subset=years)\n",
    "df.shape"
   ]
  },
  {
   "cell_type": "code",
   "execution_count": 4,
   "metadata": {},
   "outputs": [
    {
     "data": {
      "text/plain": [
       "Country Name         0\n",
       "Country Code         0\n",
       "Indicator Name       0\n",
       "Indicator Code       0\n",
       "1960               134\n",
       "1961                 0\n",
       "1962                 0\n",
       "1963                 0\n",
       "1964                 0\n",
       "1965                 0\n",
       "1966                 0\n",
       "1967                 0\n",
       "1968                 0\n",
       "1969                 0\n",
       "1970                 0\n",
       "1971                 0\n",
       "1972                 0\n",
       "1973                 0\n",
       "1974                 0\n",
       "1975                 0\n",
       "1976                 0\n",
       "1977                 0\n",
       "1978                 0\n",
       "1979                 0\n",
       "1980                 0\n",
       "1981                 0\n",
       "1982                 0\n",
       "1983                 0\n",
       "1984                 0\n",
       "1985                 0\n",
       "1986                 0\n",
       "1987                 0\n",
       "1988                 0\n",
       "1989                 0\n",
       "1990                 0\n",
       "1991                 1\n",
       "1992                 0\n",
       "1993                 0\n",
       "1994                 0\n",
       "1995                 0\n",
       "1996                 0\n",
       "1997                 0\n",
       "1998                 0\n",
       "1999                 0\n",
       "2000                 0\n",
       "2001                 1\n",
       "2002                 0\n",
       "2003                 0\n",
       "2004                 0\n",
       "2005                 0\n",
       "2006                 0\n",
       "2007                 1\n",
       "2008                 0\n",
       "2009                 0\n",
       "2010                 0\n",
       "2011                 1\n",
       "2012                 0\n",
       "2013                 0\n",
       "2014                 0\n",
       "2015              2476\n",
       "dtype: int64"
      ]
     },
     "execution_count": 4,
     "metadata": {},
     "output_type": "execute_result"
    }
   ],
   "source": [
    "df.isnull().sum()"
   ]
  },
  {
   "cell_type": "code",
   "execution_count": 5,
   "metadata": {},
   "outputs": [
    {
     "data": {
      "text/plain": [
       "(9932, 60)"
      ]
     },
     "execution_count": 5,
     "metadata": {},
     "output_type": "execute_result"
    }
   ],
   "source": [
    "# Create population_df containing all rows for population age data\n",
    "population_df = df[df['Indicator Name'].str.contains(\"Age population, age\")]\n",
    "population_df.shape"
   ]
  },
  {
   "cell_type": "code",
   "execution_count": 21,
   "metadata": {},
   "outputs": [
    {
     "data": {
      "text/html": [
       "<div>\n",
       "<style scoped>\n",
       "    .dataframe tbody tr th:only-of-type {\n",
       "        vertical-align: middle;\n",
       "    }\n",
       "\n",
       "    .dataframe tbody tr th {\n",
       "        vertical-align: top;\n",
       "    }\n",
       "\n",
       "    .dataframe thead th {\n",
       "        text-align: right;\n",
       "    }\n",
       "</style>\n",
       "<table border=\"1\" class=\"dataframe\">\n",
       "  <thead>\n",
       "    <tr style=\"text-align: right;\">\n",
       "      <th></th>\n",
       "      <th>Country Name</th>\n",
       "      <th>Country Code</th>\n",
       "      <th>Indicator Name</th>\n",
       "      <th>Indicator Code</th>\n",
       "      <th>1960</th>\n",
       "      <th>1961</th>\n",
       "      <th>1962</th>\n",
       "      <th>1963</th>\n",
       "      <th>1964</th>\n",
       "      <th>1965</th>\n",
       "      <th>...</th>\n",
       "      <th>2006</th>\n",
       "      <th>2007</th>\n",
       "      <th>2008</th>\n",
       "      <th>2009</th>\n",
       "      <th>2010</th>\n",
       "      <th>2011</th>\n",
       "      <th>2012</th>\n",
       "      <th>2013</th>\n",
       "      <th>2014</th>\n",
       "      <th>2015</th>\n",
       "    </tr>\n",
       "  </thead>\n",
       "  <tbody>\n",
       "    <tr>\n",
       "      <th>4977</th>\n",
       "      <td>High income</td>\n",
       "      <td>HIC</td>\n",
       "      <td>Life expectancy at birth, male (years)</td>\n",
       "      <td>SP.DYN.LE00.MA.IN</td>\n",
       "      <td>65.766125</td>\n",
       "      <td>66.120284</td>\n",
       "      <td>66.056373</td>\n",
       "      <td>66.203146</td>\n",
       "      <td>66.562973</td>\n",
       "      <td>66.645209</td>\n",
       "      <td>...</td>\n",
       "      <td>76.226236</td>\n",
       "      <td>76.476743</td>\n",
       "      <td>76.674293</td>\n",
       "      <td>76.976755</td>\n",
       "      <td>77.199292</td>\n",
       "      <td>77.486414</td>\n",
       "      <td>77.649986</td>\n",
       "      <td>77.889064</td>\n",
       "      <td>78.044168</td>\n",
       "      <td>NaN</td>\n",
       "    </tr>\n",
       "    <tr>\n",
       "      <th>61212</th>\n",
       "      <td>Namibia</td>\n",
       "      <td>NAM</td>\n",
       "      <td>Life expectancy at birth, male (years)</td>\n",
       "      <td>SP.DYN.LE00.MA.IN</td>\n",
       "      <td>44.756000</td>\n",
       "      <td>45.387000</td>\n",
       "      <td>46.005000</td>\n",
       "      <td>46.609000</td>\n",
       "      <td>47.203000</td>\n",
       "      <td>47.785000</td>\n",
       "      <td>...</td>\n",
       "      <td>54.820000</td>\n",
       "      <td>56.153000</td>\n",
       "      <td>57.467000</td>\n",
       "      <td>58.677000</td>\n",
       "      <td>59.712000</td>\n",
       "      <td>60.544000</td>\n",
       "      <td>61.207000</td>\n",
       "      <td>61.739000</td>\n",
       "      <td>62.148000</td>\n",
       "      <td>NaN</td>\n",
       "    </tr>\n",
       "    <tr>\n",
       "      <th>74366</th>\n",
       "      <td>Solomon Islands</td>\n",
       "      <td>SLB</td>\n",
       "      <td>Mortality rate, under-5 (per 1,000)</td>\n",
       "      <td>SH.DYN.MORT</td>\n",
       "      <td>195.900000</td>\n",
       "      <td>185.600000</td>\n",
       "      <td>175.900000</td>\n",
       "      <td>166.700000</td>\n",
       "      <td>157.900000</td>\n",
       "      <td>149.700000</td>\n",
       "      <td>...</td>\n",
       "      <td>33.400000</td>\n",
       "      <td>33.300000</td>\n",
       "      <td>33.100000</td>\n",
       "      <td>32.600000</td>\n",
       "      <td>32.100000</td>\n",
       "      <td>31.400000</td>\n",
       "      <td>30.700000</td>\n",
       "      <td>29.900000</td>\n",
       "      <td>28.900000</td>\n",
       "      <td>28.1</td>\n",
       "    </tr>\n",
       "  </tbody>\n",
       "</table>\n",
       "<p>3 rows × 60 columns</p>\n",
       "</div>"
      ],
      "text/plain": [
       "          Country Name Country Code                          Indicator Name  \\\n",
       "4977       High income          HIC  Life expectancy at birth, male (years)   \n",
       "61212          Namibia          NAM  Life expectancy at birth, male (years)   \n",
       "74366  Solomon Islands          SLB     Mortality rate, under-5 (per 1,000)   \n",
       "\n",
       "          Indicator Code        1960        1961        1962        1963  \\\n",
       "4977   SP.DYN.LE00.MA.IN   65.766125   66.120284   66.056373   66.203146   \n",
       "61212  SP.DYN.LE00.MA.IN   44.756000   45.387000   46.005000   46.609000   \n",
       "74366        SH.DYN.MORT  195.900000  185.600000  175.900000  166.700000   \n",
       "\n",
       "             1964        1965  ...       2006       2007       2008  \\\n",
       "4977    66.562973   66.645209  ...  76.226236  76.476743  76.674293   \n",
       "61212   47.203000   47.785000  ...  54.820000  56.153000  57.467000   \n",
       "74366  157.900000  149.700000  ...  33.400000  33.300000  33.100000   \n",
       "\n",
       "            2009       2010       2011       2012       2013       2014  2015  \n",
       "4977   76.976755  77.199292  77.486414  77.649986  77.889064  78.044168   NaN  \n",
       "61212  58.677000  59.712000  60.544000  61.207000  61.739000  62.148000   NaN  \n",
       "74366  32.600000  32.100000  31.400000  30.700000  29.900000  28.900000  28.1  \n",
       "\n",
       "[3 rows x 60 columns]"
      ]
     },
     "execution_count": 21,
     "metadata": {},
     "output_type": "execute_result"
    }
   ],
   "source": [
    "non_pop_df = df[~df['Indicator Name'].str.contains(\"population\")]\n",
    "non_pop_df = non_pop_df[~non_pop_df['Indicator Name'].str.contains(\"Population\")]\n",
    "non_pop_non_death_df = non_pop_df[~non_pop_df['Indicator Name'].str.contains(\"Death\")]\n",
    "non_pop_non_death_df = non_pop_non_death_df[~non_pop_non_death_df['Indicator Name'].str.contains(\"death\")]\n",
    "non_pop_non_death_df.sample(3)"
   ]
  },
  {
   "cell_type": "code",
   "execution_count": null,
   "metadata": {},
   "outputs": [],
   "source": []
  }
 ],
 "metadata": {
  "kernelspec": {
   "display_name": "base",
   "language": "python",
   "name": "python3"
  },
  "language_info": {
   "codemirror_mode": {
    "name": "ipython",
    "version": 3
   },
   "file_extension": ".py",
   "mimetype": "text/x-python",
   "name": "python",
   "nbconvert_exporter": "python",
   "pygments_lexer": "ipython3",
   "version": "3.11.7"
  }
 },
 "nbformat": 4,
 "nbformat_minor": 2
}
