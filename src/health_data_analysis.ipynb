{
 "cells": [
  {
   "cell_type": "code",
   "execution_count": 1,
   "metadata": {},
   "outputs": [],
   "source": [
    "import pandas as pd\n",
    "df = pd.read_csv('../data/data.csv')\n",
    "df.dropna(axis = 1, how = 'all', inplace = True);"
   ]
  },
  {
   "cell_type": "code",
   "execution_count": 2,
   "metadata": {},
   "outputs": [],
   "source": [
    "years = ['1960', '1961', '1962', '1963', '1964', '1965', '1966', '1967', '1968',\n",
    "       '1969', '1970', '1971', '1972', '1973', '1974', '1975', '1976', '1977',\n",
    "       '1978', '1979', '1980', '1981', '1982', '1983', '1984', '1985', '1986',\n",
    "       '1987', '1988', '1989', '1990', '1991', '1992', '1993', '1994', '1995',\n",
    "       '1996', '1997', '1998', '1999', '2000', '2001', '2002', '2003', '2004',\n",
    "       '2005', '2006', '2007', '2008', '2009', '2010', '2011', '2012', '2013',\n",
    "       '2014', '2015']"
   ]
  },
  {
   "cell_type": "code",
   "execution_count": 3,
   "metadata": {},
   "outputs": [
    {
     "data": {
      "text/plain": [
       "(35007, 60)"
      ]
     },
     "execution_count": 3,
     "metadata": {},
     "output_type": "execute_result"
    }
   ],
   "source": [
    "# Drop all rows where all 55 year columns are null\n",
    "df = df.dropna(axis=0, thresh=55, subset=years)\n",
    "df.shape"
   ]
  },
  {
   "cell_type": "code",
   "execution_count": 4,
   "metadata": {},
   "outputs": [
    {
     "data": {
      "text/plain": [
       "Country Name         0\n",
       "Country Code         0\n",
       "Indicator Name       0\n",
       "Indicator Code       0\n",
       "1960               134\n",
       "1961                 0\n",
       "1962                 0\n",
       "1963                 0\n",
       "1964                 0\n",
       "1965                 0\n",
       "1966                 0\n",
       "1967                 0\n",
       "1968                 0\n",
       "1969                 0\n",
       "1970                 0\n",
       "1971                 0\n",
       "1972                 0\n",
       "1973                 0\n",
       "1974                 0\n",
       "1975                 0\n",
       "1976                 0\n",
       "1977                 0\n",
       "1978                 0\n",
       "1979                 0\n",
       "1980                 0\n",
       "1981                 0\n",
       "1982                 0\n",
       "1983                 0\n",
       "1984                 0\n",
       "1985                 0\n",
       "1986                 0\n",
       "1987                 0\n",
       "1988                 0\n",
       "1989                 0\n",
       "1990                 0\n",
       "1991                 1\n",
       "1992                 0\n",
       "1993                 0\n",
       "1994                 0\n",
       "1995                 0\n",
       "1996                 0\n",
       "1997                 0\n",
       "1998                 0\n",
       "1999                 0\n",
       "2000                 0\n",
       "2001                 1\n",
       "2002                 0\n",
       "2003                 0\n",
       "2004                 0\n",
       "2005                 0\n",
       "2006                 0\n",
       "2007                 1\n",
       "2008                 0\n",
       "2009                 0\n",
       "2010                 0\n",
       "2011                 1\n",
       "2012                 0\n",
       "2013                 0\n",
       "2014                 0\n",
       "2015              2476\n",
       "dtype: int64"
      ]
     },
     "execution_count": 4,
     "metadata": {},
     "output_type": "execute_result"
    }
   ],
   "source": [
    "df.isnull().sum()"
   ]
  },
  {
   "cell_type": "code",
   "execution_count": 5,
   "metadata": {},
   "outputs": [
    {
     "data": {
      "text/plain": [
       "(9932, 60)"
      ]
     },
     "execution_count": 5,
     "metadata": {},
     "output_type": "execute_result"
    }
   ],
   "source": [
    "# Create population_df containing all rows for population age data\n",
    "population_df = df[df['Indicator Name'].str.contains(\"Age population, age\")]\n",
    "population_df.shape"
   ]
  },
  {
   "cell_type": "code",
   "execution_count": 25,
   "metadata": {},
   "outputs": [
    {
     "data": {
      "text/plain": [
       "2        Adolescent fertility rate (births per 1,000 wo...\n",
       "10                               Age dependency ratio, old\n",
       "11                             Age dependency ratio, young\n",
       "68                    Birth rate, crude (per 1,000 people)\n",
       "117               Fertility rate, total (births per woman)\n",
       "                               ...                        \n",
       "88851    Mortality rate, adult, male (per 1,000 male ad...\n",
       "88852       Mortality rate, infant (per 1,000 live births)\n",
       "88856                  Mortality rate, under-5 (per 1,000)\n",
       "88990             Survival to age 65, female (% of cohort)\n",
       "88991               Survival to age 65, male (% of cohort)\n",
       "Name: Indicator Name, Length: 2946, dtype: object"
      ]
     },
     "execution_count": 25,
     "metadata": {},
     "output_type": "execute_result"
    }
   ],
   "source": [
    "non_pop_df = df[~df['Indicator Name'].str.contains(\"population\")]\n",
    "non_pop_df = non_pop_df[~non_pop_df['Indicator Name'].str.contains(\"Population\")]\n",
    "non_pop_non_death_df = non_pop_df[~non_pop_df['Indicator Name'].str.contains(\"Death\")]\n",
    "non_pop_non_death_df = non_pop_non_death_df[~non_pop_non_death_df['Indicator Name'].str.contains(\"death\")]\n",
    "non_pop_non_death_df['Indicator Name']"
   ]
  },
  {
   "cell_type": "code",
   "execution_count": null,
   "metadata": {},
   "outputs": [],
   "source": []
  }
 ],
 "metadata": {
  "kernelspec": {
   "display_name": "base",
   "language": "python",
   "name": "python3"
  },
  "language_info": {
   "codemirror_mode": {
    "name": "ipython",
    "version": 3
   },
   "file_extension": ".py",
   "mimetype": "text/x-python",
   "name": "python",
   "nbconvert_exporter": "python",
   "pygments_lexer": "ipython3",
   "version": "3.11.7"
  }
 },
 "nbformat": 4,
 "nbformat_minor": 2
}
